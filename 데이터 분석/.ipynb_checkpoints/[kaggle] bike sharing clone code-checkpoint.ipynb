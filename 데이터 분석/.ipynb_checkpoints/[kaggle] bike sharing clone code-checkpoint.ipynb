{
 "cells": [
  {
   "cell_type": "markdown",
   "id": "59f04090",
   "metadata": {},
   "source": [
    "https://www.kaggle.com/competitions/bike-sharing-demand/overview\n",
    "\n",
    "날씨 데이터를 통해 자전거의 수요를 예측하는 프로그램을 구현\n",
    "\n",
    "https://didu-story.tistory.com/43?category=937100 블로그를 통해 clone 코딩해보며 어떻게 데이터를 분석해는지 알아보고자 함!"
   ]
  },
  {
   "cell_type": "code",
   "execution_count": null,
   "id": "9d2b549c",
   "metadata": {},
   "outputs": [],
   "source": []
  }
 ],
 "metadata": {
  "kernelspec": {
   "display_name": "Python 3 (ipykernel)",
   "language": "python",
   "name": "python3"
  },
  "language_info": {
   "codemirror_mode": {
    "name": "ipython",
    "version": 3
   },
   "file_extension": ".py",
   "mimetype": "text/x-python",
   "name": "python",
   "nbconvert_exporter": "python",
   "pygments_lexer": "ipython3",
   "version": "3.8.13"
  }
 },
 "nbformat": 4,
 "nbformat_minor": 5
}
