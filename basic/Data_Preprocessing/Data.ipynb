{
 "cells": [
  {
   "cell_type": "markdown",
   "id": "bd1d0d32",
   "metadata": {},
   "source": [
    "## 데이터 shuffle"
   ]
  },
  {
   "cell_type": "code",
   "execution_count": 4,
   "id": "9c3c4b3c",
   "metadata": {},
   "outputs": [
    {
     "name": "stdout",
     "output_type": "stream",
     "text": [
      "[ 0  1  2  3  4  5  6  7  8  9 10 11 12 13 14 15 16 17 18 19 20 21 22 23\n",
      " 24 25 26 27 28 29 30 31 32 33 34 35 36 37 38 39 40 41 42 43 44 45 46 47\n",
      " 48]\n",
      "[46 25  1 36  3 48 18 34 32 13 20 45 19 31 16 43  2 42  6 27 12 28 47 41\n",
      " 14 30  8  0  4 44 21  7 40 33 22 39 15 11 37 35 24 23  5 26 29 17  9 38\n",
      " 10]\n"
     ]
    }
   ],
   "source": [
    "import numpy as np\n",
    "\n",
    "# 데이터 생성\n",
    "index = np.arange(49)\n",
    "print(index)\n",
    "\n",
    "# 데이터 shuffle\n",
    "index_shuffle = np.random.shuffle(index)\n",
    "print(index)"
   ]
  },
  {
   "cell_type": "markdown",
   "id": "0806bd2b",
   "metadata": {},
   "source": [
    "## 데이터 준비"
   ]
  },
  {
   "cell_type": "code",
   "execution_count": 8,
   "id": "c048a0ce",
   "metadata": {},
   "outputs": [
    {
     "name": "stdout",
     "output_type": "stream",
     "text": [
      "[[ 1 10]\n",
      " [ 2 20]\n",
      " [ 3 30]\n",
      " [ 4 40]\n",
      " [ 5 50]]\n",
      "[1. 1. 1. 1. 1. 1. 1. 1. 1. 1. 1. 1. 1. 1. 1. 1. 1. 1. 1. 1. 1. 1. 1. 1.\n",
      " 1. 1. 1. 1. 1. 1. 1. 1. 1. 1. 1. 0. 0. 0. 0. 0. 0. 0. 0. 0. 0. 0. 0. 0.\n",
      " 0.]\n"
     ]
    }
   ],
   "source": [
    "# 두 특성을 하나의 numpy로 만들기 - 열을 기준으로\n",
    "length = np.array([1,2,3,4,5])\n",
    "weight = np.array([10,20,30,40,50])\n",
    "target = np.array([1,1,1,0,0])\n",
    "data = np.column_stack((length, weight))\n",
    "print(data)\n",
    "\n",
    "concat_data = np.concatenate((np.ones(35), np.zeros(14)))\n",
    "print(concat_data)"
   ]
  },
  {
   "cell_type": "markdown",
   "id": "f7ed76b8",
   "metadata": {},
   "source": [
    "## sklearn library를 통한 데이터 split"
   ]
  },
  {
   "cell_type": "code",
   "execution_count": 11,
   "id": "4a214259",
   "metadata": {},
   "outputs": [
    {
     "name": "stdout",
     "output_type": "stream",
     "text": [
      "[[ 2 20]\n",
      " [ 3 30]\n",
      " [ 5 50]]\n",
      "[1 1 0]\n"
     ]
    }
   ],
   "source": [
    "from sklearn.model_selection import train_test_split\n",
    "\n",
    "train_input, test_input, train_target, test_target = train_test_split(data, target, stratify=target)\n",
    "print(train_input)\n",
    "print(train_target)"
   ]
  },
  {
   "cell_type": "markdown",
   "id": "596a18a6",
   "metadata": {},
   "source": [
    "## sklearn library classification exmaple"
   ]
  },
  {
   "cell_type": "code",
   "execution_count": 24,
   "id": "30c63319",
   "metadata": {},
   "outputs": [
    {
     "name": "stdout",
     "output_type": "stream",
     "text": [
      "train_Data : [[ 15 150]\n",
      " [ 41 401]\n",
      " [ 31 301]\n",
      " [ 20 200]\n",
      " [ 36 306]\n",
      " [ 12 120]\n",
      " [ 24 240]\n",
      " [ 21 210]\n",
      " [ 33 303]\n",
      " [ 47 407]\n",
      " [ 18 180]\n",
      " [ 34 304]\n",
      " [ 13 130]\n",
      " [ 42 402]\n",
      " [ 45 405]]\n",
      "test_Data : [[ 23 230]\n",
      " [ 10 100]\n",
      " [ 30 300]\n",
      " [ 32 302]\n",
      " [ 15 150]]\n"
     ]
    }
   ],
   "source": [
    "import numpy as np\n",
    "from sklearn.model_selection import train_test_split\n",
    "\n",
    "data_length = np.array([10,12,13,15,18,20,21,15,23,24,30,31,32,42,33,47,34,41,36,45])\n",
    "data_weight = np.array([100,120,130,150,180,200,210,150,230,240,300,301,302,402,303,407,304,401,306,405])\n",
    "\n",
    "data = np.column_stack((data_length, data_weight))\n",
    "data_target = np.concatenate((np.ones(10), np.zeros(10)))\n",
    "train_data, test_data, train_target, test_target = train_test_split(data, data_target,stratify=data_target)\n",
    "\n",
    "print(\"train_Data :\" , train_data)\n",
    "print(\"test_Data :\" , test_data)"
   ]
  },
  {
   "cell_type": "code",
   "execution_count": 31,
   "id": "43d6197b",
   "metadata": {},
   "outputs": [
    {
     "name": "stdout",
     "output_type": "stream",
     "text": [
      "100.0%"
     ]
    }
   ],
   "source": [
    "from sklearn.neighbors import KNeighborsClassifier\n",
    "\n",
    "knn = KNeighborsClassifier()\n",
    "knn.fit(train_data, train_target)\n",
    "result = knn.score(test_data, test_target)\n",
    "print(result*100, end=\"%\")"
   ]
  },
  {
   "cell_type": "code",
   "execution_count": 44,
   "id": "f3c5b846",
   "metadata": {},
   "outputs": [
    {
     "data": {
      "text/plain": [
       "Text(0, 0.5, 'weight')"
      ]
     },
     "execution_count": 44,
     "metadata": {},
     "output_type": "execute_result"
    },
    {
     "data": {
      "image/png": "[encoded data removed]",
      "text/plain": [
       "<Figure size 432x288 with 1 Axes>"
      ]
     },
     "metadata": {
      "needs_background": "light"
     },
     "output_type": "display_data"
    }
   ],
   "source": [
    "from matplotlib import pyplot as plt\n",
    "\n",
    "predictable_data = np.array([[32,290]])\n",
    "dist, idx = knn.kneighbors([[32,290]])\n",
    "plt.scatter(train_data[:,0], train_data[:,1])\n",
    "plt.scatter(predictable_data[0][0],predictable_data[0][1], marker='^')\n",
    "plt.scatter(train_data[idx, 0], train_data[idx,1], marker='D')\n",
    "plt.xlabel('length')\n",
    "plt.ylabel('weight')"
   ]
  },
  {
   "cell_type": "markdown",
   "id": "fa39d5d3",
   "metadata": {},
   "source": [
    "## 길이, 무게값 정규화로 다시 진행"
   ]
  },
  {
   "cell_type": "code",
   "execution_count": 81,
   "id": "0d94c0cd",
   "metadata": {},
   "outputs": [
    {
     "name": "stdout",
     "output_type": "stream",
     "text": [
      "------------train data-----------------\n",
      "[[-1.18965517 -1.2056962 ]\n",
      " [ 1.05172414  1.30367152]\n",
      " [ 0.18965517  0.30392342]\n",
      " [-0.75862069 -0.70582216]\n",
      " [ 0.62068966  0.35391083]\n",
      " [-1.44827586 -1.50562063]\n",
      " [-0.4137931  -0.30592292]\n",
      " [-0.67241379 -0.60584735]\n",
      " [ 0.36206897  0.32391838]\n",
      " [ 1.56896552  1.3636564 ]\n",
      " [-0.93103448 -0.90577177]\n",
      " [ 0.44827586  0.33391586]\n",
      " [-1.36206897 -1.40564582]\n",
      " [ 1.13793103  1.313669  ]\n",
      " [ 1.39655172  1.34366144]]\n",
      "------------test data-----------------\n",
      "[[-0.5        -0.40589773]\n",
      " [-1.62068966 -1.70557025]\n",
      " [ 0.10344828  0.29392594]\n",
      " [ 0.27586207  0.3139209 ]\n",
      " [-1.18965517 -1.2056962 ]]\n",
      "---------predictable data--------------\n",
      "[[0.27586207 0.19395113]]\n"
     ]
    }
   ],
   "source": [
    "from sklearn.preprocessing import StandardScaler\n",
    "\n",
    "predictable_data = np.array([[32,290]])\n",
    "\n",
    "scaler = StandardScaler()\n",
    "scaler.fit(train_data) # Train data에서의 평균, 표준편차를 기준으로 하려니깐 fit은 한 번만!\n",
    "transformed_train_data = scaler.transform(train_data)\n",
    "transformed_test_data = scaler.transform(test_data)\n",
    "transformed_predictable_data = scaler.transform(predictable_data)\n",
    "print(\"------------train data-----------------\")\n",
    "print(transformed_data)\n",
    "print(\"------------test data-----------------\")\n",
    "print(transformed_test_data)\n",
    "print(\"---------predictable data--------------\")\n",
    "print(transformed_predictable_data )"
   ]
  },
  {
   "cell_type": "code",
   "execution_count": 82,
   "id": "45396020",
   "metadata": {},
   "outputs": [
    {
     "name": "stdout",
     "output_type": "stream",
     "text": [
      "100.0%"
     ]
    }
   ],
   "source": [
    "knn = KNeighborsClassifier()\n",
    "knn.fit(transformed_train_data, train_target)\n",
    "result = knn.score(transformed_test_data, test_target)\n",
    "print(result*100, end=\"%\")"
   ]
  },
  {
   "cell_type": "code",
   "execution_count": 83,
   "id": "aad95e73",
   "metadata": {},
   "outputs": [
    {
     "data": {
      "text/plain": [
       "Text(0, 0.5, 'weight')"
      ]
     },
     "execution_count": 83,
     "metadata": {},
     "output_type": "execute_result"
    },
    {
     "data": {
      "image/png": "[encoded data removed]",
      "text/plain": [
       "<Figure size 432x288 with 1 Axes>"
      ]
     },
     "metadata": {
      "needs_background": "light"
     },
     "output_type": "display_data"
    }
   ],
   "source": [
    "from matplotlib import pyplot as plt\n",
    "\n",
    "dist, idx = knn.kneighbors(transformed_predictable_data)\n",
    "plt.scatter(transformed_train_data[:,0], transformed_train_data[:,1])\n",
    "plt.scatter(transformed_predictable_data[0][0],transformed_predictable_data[0][1], marker='^')\n",
    "plt.scatter(transformed_train_data[idx, 0], transformed_train_data[idx,1], marker='D')\n",
    "plt.xlabel('length')\n",
    "plt.ylabel('weight')"
   ]
  }
 ],
 "metadata": {
  "kernelspec": {
   "display_name": "Python 3 (ipykernel)",
   "language": "python",
   "name": "python3"
  },
  "language_info": {
   "codemirror_mode": {
    "name": "ipython",
    "version": 3
   },
   "file_extension": ".py",
   "mimetype": "text/x-python",
   "name": "python",
   "nbconvert_exporter": "python",
   "pygments_lexer": "ipython3",
   "version": "3.9.12"
  }
 },
 "nbformat": 4,
 "nbformat_minor": 5
}
