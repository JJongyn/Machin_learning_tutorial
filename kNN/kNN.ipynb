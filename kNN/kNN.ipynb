{
 "cells": [
  {
   "cell_type": "markdown",
   "id": "05e10846",
   "metadata": {},
   "source": [
    "# kNN\n",
    "\n",
    "- 지도학습의 가장 대표적인 예시\n",
    "- 다양한 레이블의 데이터 중에서, 자신과 가까운 데이터를 찾아 자신의 레이블을 결정하는 방식"
   ]
  },
  {
   "cell_type": "markdown",
   "id": "ccd66ca8",
   "metadata": {},
   "source": [
    "![knn](img/knn.png)"
   ]
  },
  {
   "cell_type": "markdown",
   "id": "e7fff6ab",
   "metadata": {},
   "source": [
    "만약 k = 3이라면,\n",
    "\n",
    "★과 가장 가까운 3개의 레이블은 🟥 2개, 🔵 1개 이므로 여기서 \n",
    "\n",
    "★을 🟥 라고 판단하는 방법\n"
   ]
  },
  {
   "cell_type": "markdown",
   "id": "2c72f383",
   "metadata": {},
   "source": [
    "## Data set 준비"
   ]
  },
  {
   "cell_type": "code",
   "execution_count": 16,
   "id": "ee3ed82f",
   "metadata": {},
   "outputs": [
    {
     "data": {
      "text/plain": [
       "<matplotlib.collections.PathCollection at 0x7fbadc6b0a30>"
      ]
     },
     "execution_count": 16,
     "metadata": {},
     "output_type": "execute_result"
    },
    {
     "data": {
      "image/png": "[encoded data removed]",
      "text/plain": [
       "<Figure size 432x288 with 1 Axes>"
      ]
     },
     "metadata": {
      "needs_background": "light"
     },
     "output_type": "display_data"
    }
   ],
   "source": [
    "import cv2\n",
    "import numpy as np\n",
    "from matplotlib import pyplot as plt\n",
    "\n",
    "train_data = np.random.randint(0,100,size=(25,2)).astype(np.float32)\n",
    "response = np.random.randint(0,2,size=(25,1)).astype(np.float32)\n",
    "\n",
    "# print(response)\n",
    "\n",
    "red = train_data[response.ravel() == 0]\n",
    "blue = train_data[response.ravel() == 1]\n",
    "plt.scatter(red[:, 0], red[:, 1], 80, 'r', '^')\n",
    "plt.scatter(blue[:, 0], blue[:, 1], 80, 'b', 's')\n",
    "\n",
    "new_data = np.random.randint(0,100,size=(1,2)).astype(np.float32)\n",
    "plt.scatter(new_data[:, 0], new_data[:, 1], 80, 'g', 'o')"
   ]
  },
  {
   "cell_type": "markdown",
   "id": "9871f34a",
   "metadata": {},
   "source": [
    "## kNN 알고리즘 적용"
   ]
  },
  {
   "cell_type": "code",
   "execution_count": 17,
   "id": "dc0fc9ff",
   "metadata": {},
   "outputs": [
    {
     "name": "stdout",
     "output_type": "stream",
     "text": [
      "result [[0.]]\n"
     ]
    }
   ],
   "source": [
    "knn = cv2.ml.KNearest_create()\n",
    "knn.train(train_data, cv2.ml.ROW_SAMPLE, response)\n",
    "ret, results, neighbours, dist = knn.findNearest(new_data, 3)\n",
    "\n",
    "print(\"result\", results)"
   ]
  },
  {
   "cell_type": "markdown",
   "id": "4f36c698",
   "metadata": {},
   "source": [
    "## numpy로 knn 알고리즘 구현"
   ]
  },
  {
   "cell_type": "code",
   "execution_count": 57,
   "id": "f3ec4052",
   "metadata": {},
   "outputs": [],
   "source": [
    "import numpy as np\n",
    "\n",
    "def create_dataset():\n",
    "    train_data = np.random.randint(0,100,size=(5,2)) # 2차원의 속성 데이터\n",
    "    train_labels = np.array([\"Red\",\"Red\",\"Red\",\"Blue\",\"Blue\"])\n",
    "    return train_data, train_labels\n",
    "\n",
    "def euclid_dist(train, test):\n",
    "    dists = train - test\n",
    "    dists = np.array(np.sqrt(dists[:,0]**2 + dists[:,1]**2)) # 그래프로 보면 x^2 , y^2  \n",
    "    return dists\n",
    "\n",
    "def knn(train, train_label, test, k):\n",
    "    dists = euclid_dist(train, test)\n",
    "    sorted_idx = dists.argsort()\n",
    "\n",
    "    result = {}\n",
    "    for i in range(k): \n",
    "        c = train_label[sorted_idx[i]] # label의 인덱스를 가져와서 그 인덱스를 result에 넣으며 count!\n",
    "        result[c] = result.get(c, 0) + 1 \n",
    "    return result\n",
    "\n"
   ]
  },
  {
   "cell_type": "markdown",
   "id": "b3973446",
   "metadata": {},
   "source": [
    "## classification 결과"
   ]
  },
  {
   "cell_type": "code",
   "execution_count": 67,
   "id": "2ebbb6a1",
   "metadata": {},
   "outputs": [
    {
     "name": "stdout",
     "output_type": "stream",
     "text": [
      "Blue\n"
     ]
    }
   ],
   "source": [
    "train_data, train_labels = create_dataset()   \n",
    "test_data = np.array([[50,20]])\n",
    "result = knn(train_data, train_labels, test_data, 3)\n",
    "\n",
    "classfication_result = max(result, key = result.get)\n",
    "print(classfication_result)\n"
   ]
  },
  {
   "cell_type": "markdown",
   "id": "083ffed7",
   "metadata": {},
   "source": [
    "## dataset 시각화"
   ]
  },
  {
   "cell_type": "code",
   "execution_count": 68,
   "id": "da6b16b2",
   "metadata": {},
   "outputs": [
    {
     "data": {
      "text/plain": [
       "<matplotlib.collections.PathCollection at 0x7fbad2f66a30>"
      ]
     },
     "execution_count": 68,
     "metadata": {},
     "output_type": "execute_result"
    },
    {
     "data": {
      "image/png": "[encoded data removed]",
      "text/plain": [
       "<Figure size 432x288 with 1 Axes>"
      ]
     },
     "metadata": {
      "needs_background": "light"
     },
     "output_type": "display_data"
    }
   ],
   "source": [
    "\n",
    "red = train_data[train_labels.ravel() == \"Red\"]\n",
    "blue = train_data[train_labels.ravel() == \"Blue\"]\n",
    "\n",
    "plt.scatter(red[:, 0], red[:, 1], 80, 'r', '+')\n",
    "plt.scatter(blue[:, 0], blue[:, 1], 80, 'b', '+')\n",
    "plt.scatter(test_data[:, 0], test_data[:, 1], 80, 'g',\"o\")"
   ]
  }
 ],
 "metadata": {
  "kernelspec": {
   "display_name": "Python 3.9.12 64-bit ('anaconda3')",
   "language": "python",
   "name": "python3"
  },
  "language_info": {
   "codemirror_mode": {
    "name": "ipython",
    "version": 3
   },
   "file_extension": ".py",
   "mimetype": "text/x-python",
   "name": "python",
   "nbconvert_exporter": "python",
   "pygments_lexer": "ipython3",
   "version": "3.9.12"
  },
  "vscode": {
   "interpreter": {
    "hash": "fd2b7e650bb710d0cf27ea8bb08a0c3db4acfa83e25e5ac9e24b1f0306c04662"
   }
  }
 },
 "nbformat": 4,
 "nbformat_minor": 5
}
