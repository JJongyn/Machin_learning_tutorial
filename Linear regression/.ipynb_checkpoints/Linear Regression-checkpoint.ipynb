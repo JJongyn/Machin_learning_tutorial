{
 "cells": [
  {
   "cell_type": "markdown",
   "id": "e82d98ab",
   "metadata": {},
   "source": [
    "## Linear Regression란?\n",
    "\n",
    "입력한 데이터를 바탕으로 모델을 생성할 때 이 모델이 선(line)의 형태로 되어있고 이 선을 찾는 분석 방법을 Linear Regression 분석이라 부른다. \n",
    "\n",
    "가장 간단한 1차원 함수를 생각해보면,\n",
    "\n",
    "y = mx + b로 표현할 수 있고\n",
    "\n",
    "여기서 x는 입력 데이터이고 학습을 통해 m, b를 찾아가서 새로운 x에 대해 y를 예측\n",
    "\n",
    "결국 우리가 찾고자하는 것은 기울기 m과 절편 b이다! 그럼 어떤 것을 기준으로? -> Loss"
   ]
  },
  {
   "cell_type": "markdown",
   "id": "80866ecf",
   "metadata": {},
   "source": [
    "## Loss\n",
    "\n",
    "여기서 loss는 어떤 것을 의미할까?\n",
    "\n",
    "1차 함수로 그래프를 그린다고 상상해보자.\n",
    "\n",
    "입력 데이터가 (x,y)로 그래프에 표시되어 있고, 그 사이를 지나가는 우리의 모델 1차 함수\n",
    "\n",
    "이때, 1차 함수랑 입력 데이터간 거리 차이가 loss가 된다.\n",
    "\n",
    "그럼 모든 입력 데이터와의 loss를 어떻게 측정할까?\n",
    "\n",
    "### 평균 제곱 오차 (Mean Squared Error, mse)\n",
    "\n",
    "단순히 모델과 입력 데이터 사이의 차이로 계산을 하면 어떤 데이터는 loss가 +, 다른 데이터는 loss가 -로 이들을 다 더하면 전체적인 loss를 계산하기 어렵다.\n",
    "\n",
    "따라서 +, -에 관계없이 동일하게 반영되도록 하기위해 모든 loss에 제곱을 해준다. 이를 평균 제곱 오차라 부른다."
   ]
  },
  {
   "cell_type": "code",
   "execution_count": 37,
   "id": "022b0d21",
   "metadata": {},
   "outputs": [
    {
     "name": "stdout",
     "output_type": "stream",
     "text": [
      "65.88246150000406%\n"
     ]
    }
   ],
   "source": [
    "import numpy as np\n",
    "from sklearn.linear_model import LinearRegression\n",
    "from sklearn.model_selection import train_test_split\n",
    "import matplotlib.pyplot as plt\n",
    "\n",
    "x = 2 * np.random.rand(100, 1)\n",
    "y = 4 +  3 * x + np.random.randn(100,1)\n",
    "\n",
    "\n",
    "linear = LinearRegression()\n",
    "X_train, X_test, Y_train, Y_test = train_test_split(x, y)\n",
    "linear.fit(X_train, Y_train)\n",
    "prediction = linear.predict(X_test)\n",
    "print(linear.score(X_test, Y_test)*100,end = '%\\n')"
   ]
  },
  {
   "cell_type": "markdown",
   "id": "e5154753",
   "metadata": {},
   "source": [
    "## test set에 대한 모델 "
   ]
  },
  {
   "cell_type": "code",
   "execution_count": 38,
   "id": "5d8366cc",
   "metadata": {},
   "outputs": [
    {
     "name": "stdout",
     "output_type": "stream",
     "text": [
      "65.88246150000406%\n"
     ]
    },
    {
     "data": {
      "image/png": "[encoded data removed]",
      "text/plain": [
       "<Figure size 432x288 with 1 Axes>"
      ]
     },
     "metadata": {
      "needs_background": "light"
     },
     "output_type": "display_data"
    }
   ],
   "source": [
    "plt.scatter(X_train,Y_train, label=\"train data\")\n",
    "plt.plot(X_test, prediction, marker=\"o\", color = 'red')\n",
    "print(linear.score(X_test, Y_test)*100,end = '%\\n')"
   ]
  },
  {
   "cell_type": "markdown",
   "id": "51fc9a61",
   "metadata": {},
   "source": [
    "## Tensorflow로 선형회귀 구현"
   ]
  },
  {
   "cell_type": "code",
   "execution_count": 4,
   "id": "9784ba43",
   "metadata": {},
   "outputs": [
    {
     "name": "stdout",
     "output_type": "stream",
     "text": [
      "Model: \"sequential_2\"\n",
      "_________________________________________________________________\n",
      " Layer (type)                Output Shape              Param #   \n",
      "=================================================================\n",
      " dense_2 (Dense)             (None, 1)                 2         \n",
      "                                                                 \n",
      "=================================================================\n",
      "Total params: 2\n",
      "Trainable params: 2\n",
      "Non-trainable params: 0\n",
      "_________________________________________________________________\n",
      "Epoch 1/30\n",
      "1/1 [==============================] - 0s 120ms/step - loss: 41.5590\n",
      "Epoch 2/30\n",
      "1/1 [==============================] - 0s 5ms/step - loss: 32.9567\n",
      "Epoch 3/30\n",
      "1/1 [==============================] - 0s 10ms/step - loss: 26.1566\n",
      "Epoch 4/30\n",
      "1/1 [==============================] - 0s 5ms/step - loss: 20.7809\n",
      "Epoch 5/30\n",
      "1/1 [==============================] - 0s 7ms/step - loss: 16.5312\n",
      "Epoch 6/30\n",
      "1/1 [==============================] - 0s 9ms/step - loss: 13.1716\n",
      "Epoch 7/30\n",
      "1/1 [==============================] - 0s 5ms/step - loss: 10.5155\n",
      "Epoch 8/30\n",
      "1/1 [==============================] - 0s 5ms/step - loss: 8.4154\n",
      "Epoch 9/30\n",
      "1/1 [==============================] - 0s 5ms/step - loss: 6.7550\n",
      "Epoch 10/30\n",
      "1/1 [==============================] - 0s 5ms/step - loss: 5.4420\n",
      "Epoch 11/30\n",
      "1/1 [==============================] - ETA: 0s - loss: 4.4036"
     ]
    },
    {
     "name": "stderr",
     "output_type": "stream",
     "text": [
      "2022-08-24 02:30:44.575155: I tensorflow/core/grappler/optimizers/custom_graph_optimizer_registry.cc:113] Plugin optimizer for device_type GPU is enabled.\n"
     ]
    },
    {
     "name": "stdout",
     "output_type": "stream",
     "text": [
      "1/1 [==============================] - 0s 4ms/step - loss: 4.4036\n",
      "Epoch 12/30\n",
      "1/1 [==============================] - 0s 4ms/step - loss: 3.5824\n",
      "Epoch 13/30\n",
      "1/1 [==============================] - 0s 4ms/step - loss: 2.9328\n",
      "Epoch 14/30\n",
      "1/1 [==============================] - 0s 4ms/step - loss: 2.4188\n",
      "Epoch 15/30\n",
      "1/1 [==============================] - 0s 5ms/step - loss: 2.0120\n",
      "Epoch 16/30\n",
      "1/1 [==============================] - 0s 5ms/step - loss: 1.6900\n",
      "Epoch 17/30\n",
      "1/1 [==============================] - 0s 6ms/step - loss: 1.4350\n",
      "Epoch 18/30\n",
      "1/1 [==============================] - 0s 6ms/step - loss: 1.2330\n",
      "Epoch 19/30\n",
      "1/1 [==============================] - 0s 5ms/step - loss: 1.0728\n",
      "Epoch 20/30\n",
      "1/1 [==============================] - 0s 5ms/step - loss: 0.9457\n",
      "Epoch 21/30\n",
      "1/1 [==============================] - 0s 4ms/step - loss: 0.8448\n",
      "Epoch 22/30\n",
      "1/1 [==============================] - 0s 4ms/step - loss: 0.7645\n",
      "Epoch 23/30\n",
      "1/1 [==============================] - 0s 5ms/step - loss: 0.7006\n",
      "Epoch 24/30\n",
      "1/1 [==============================] - 0s 5ms/step - loss: 0.6497\n",
      "Epoch 25/30\n",
      "1/1 [==============================] - 0s 4ms/step - loss: 0.6089\n",
      "Epoch 26/30\n",
      "1/1 [==============================] - 0s 4ms/step - loss: 0.5763\n",
      "Epoch 27/30\n",
      "1/1 [==============================] - 0s 4ms/step - loss: 0.5500\n",
      "Epoch 28/30\n",
      "1/1 [==============================] - 0s 7ms/step - loss: 0.5288\n",
      "Epoch 29/30\n",
      "1/1 [==============================] - 0s 5ms/step - loss: 0.5115\n",
      "Epoch 30/30\n",
      "1/1 [==============================] - 0s 5ms/step - loss: 0.4975\n"
     ]
    }
   ],
   "source": [
    "import tensorflow as tf\n",
    "import numpy as np\n",
    "import matplotlib.pyplot as plt\n",
    "\n",
    "x_train = [1, 2, 3]\n",
    "y_train = [4, 5, 6]\n",
    "\n",
    "W = tf.Variable(tf.random.normal([1]), name='weight')\n",
    "b = tf.Variable(tf.random.normal([1]), name='bias')\n",
    "\n",
    "h = W*x_train+b\n",
    "model = tf.keras.models.Sequential()\n",
    "model.add(tf.keras.layers.Dense(1, input_dim = 1))\n",
    "sgd = tf.keras.optimizers.SGD(learning_rate=0.01)\n",
    "model.compile(loss='mse',optimizer=sgd)\n",
    "model.summary()\n",
    "\n",
    "hist = model.fit(x_train, y_train, epochs=30)"
   ]
  },
  {
   "cell_type": "code",
   "execution_count": 5,
   "id": "3a5c7bcc",
   "metadata": {},
   "outputs": [
    {
     "data": {
      "image/png": "[encoded data removed]",
      "text/plain": [
       "<Figure size 432x288 with 1 Axes>"
      ]
     },
     "metadata": {
      "needs_background": "light"
     },
     "output_type": "display_data"
    }
   ],
   "source": [
    "plt.title(\"loss\")\n",
    "plt.xlabel(\"epochs\")\n",
    "plt.ylabel(\"loss\")\n",
    "plt.grid()\n",
    "\n",
    "plt.plot(hist.history['loss'])\n",
    "plt.show()"
   ]
  }
 ],
 "metadata": {
  "kernelspec": {
   "display_name": "Python 3 (ipykernel)",
   "language": "python",
   "name": "python3"
  },
  "language_info": {
   "codemirror_mode": {
    "name": "ipython",
    "version": 3
   },
   "file_extension": ".py",
   "mimetype": "text/x-python",
   "name": "python",
   "nbconvert_exporter": "python",
   "pygments_lexer": "ipython3",
   "version": "3.8.13"
  }
 },
 "nbformat": 4,
 "nbformat_minor": 5
}
